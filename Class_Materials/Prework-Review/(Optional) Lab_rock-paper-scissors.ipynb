{
 "cells": [
  {
   "cell_type": "markdown",
   "metadata": {},
   "source": [
    "<img src=\"https://bit.ly/2VnXWr2\" width=\"100\" align=\"left\">"
   ]
  },
  {
   "cell_type": "markdown",
   "metadata": {},
   "source": [
    "# Rock, Paper & Scissors\n",
    "\n",
    "Let's play the famous game against our computer. You can check the rules [here](https://en.wikipedia.org/wiki/Rock%E2%80%93paper%E2%80%93scissors). \n",
    "\n",
    "## Task\n",
    "Create a program that imitates the playability of the well known game of rock, paper, scissors. Follow the guidelines provided.\n",
    "\n",
    "## Tools\n",
    "1. Loop: **for/while**\n",
    "2. Functions: **input(), print()...**\n",
    "3. Conditional statements: **if, elif, else**\n",
    "4. Definition of functions. Modular programming\n",
    "5. Import modules\n",
    "\n",
    "**To solve this challenge, the use of functions is recommended.**\n",
    "\n",
    "#### 1. Import the choice function of the random module."
   ]
  },
  {
   "cell_type": "code",
   "execution_count": 1,
   "metadata": {},
   "outputs": [],
   "source": [
    "import random\n",
    "from random import choice"
   ]
  },
  {
   "cell_type": "markdown",
   "metadata": {},
   "source": [
    "#### 2. Create a list that includes the 3 possible gesture options of the game: 'rock', 'paper' or 'scissors'. Store the list in a variable called `gestures`."
   ]
  },
  {
   "cell_type": "code",
   "execution_count": 2,
   "metadata": {},
   "outputs": [],
   "source": [
    "# gestures = [\"rock\", \"paper\", \"scissors\"]"
   ]
  },
  {
   "cell_type": "code",
   "execution_count": 3,
   "metadata": {},
   "outputs": [],
   "source": [
    "def ReturnAllGestures(ExtensionSelector=False): # used for selecting between standard RPS and RPSLS\n",
    "    if not ExtensionSelector:\n",
    "        return [\"rock\", \"paper\", \"scissors\"]\n",
    "    else:\n",
    "        return [\"rock\", \"paper\", \"scissors\"] + [\"lizard\", \"spock\"]"
   ]
  },
  {
   "cell_type": "markdown",
   "metadata": {},
   "source": [
    "#### 3. Create a variable called `n_rounds` to store the maximum number of rounds to play in a game. \n",
    "Remember that the number of rounds must be odd: 1, 3, 5, ..."
   ]
  },
  {
   "cell_type": "code",
   "execution_count": 4,
   "metadata": {},
   "outputs": [],
   "source": [
    "n_rounds = 5"
   ]
  },
  {
   "cell_type": "markdown",
   "metadata": {},
   "source": [
    "#### 4. Create a variable called `rounds_to_win` to store the number of rounds that a player must win to win the game.\n",
    "**Hint**: the value stored in `rounds_to_win` depends on the value of `n_rounds`. "
   ]
  },
  {
   "cell_type": "code",
   "execution_count": 5,
   "metadata": {},
   "outputs": [],
   "source": [
    "rounds_to_win = (n_rounds//2)+1"
   ]
  },
  {
   "cell_type": "markdown",
   "metadata": {},
   "source": [
    "#### 5. Create two variables to store the number of rounds that the computer and the player have won. Call these variables `cpu_score` and `player_score`."
   ]
  },
  {
   "cell_type": "code",
   "execution_count": 6,
   "metadata": {},
   "outputs": [],
   "source": [
    "cpu_score = 0\n",
    "player_score = 0"
   ]
  },
  {
   "cell_type": "markdown",
   "metadata": {},
   "source": [
    "#### 6. Define a function that randomly returns one of the 3 gesture options.\n",
    "You will use this function to simulate the gesture choice of the computer. "
   ]
  },
  {
   "cell_type": "code",
   "execution_count": 7,
   "metadata": {},
   "outputs": [],
   "source": [
    "def ComputerGesture(ExtensionSelector=False):\n",
    "    gestures = ReturnAllGestures(ExtensionSelector)\n",
    "    comp_gesture = random.choice(gestures)\n",
    "    return comp_gesture"
   ]
  },
  {
   "cell_type": "code",
   "execution_count": 8,
   "metadata": {},
   "outputs": [
    {
     "data": {
      "text/plain": [
       "'scissors'"
      ]
     },
     "execution_count": 8,
     "metadata": {},
     "output_type": "execute_result"
    }
   ],
   "source": [
    "Comp = ComputerGesture()\n",
    "Comp"
   ]
  },
  {
   "cell_type": "markdown",
   "metadata": {},
   "source": [
    "#### 7. Define a function that asks the player which is the gesture he or she wants to show: 'rock', 'paper' or 'scissors'.\n",
    "The player should only be allowed to choose one of the 3 gesture options. If the player's choice is not rock, paper or scissors, keep asking until it is."
   ]
  },
  {
   "cell_type": "code",
   "execution_count": 9,
   "metadata": {},
   "outputs": [],
   "source": [
    "def PlayerGesture(ExtensionSelector=False):\n",
    "    gestures = ReturnAllGestures(ExtensionSelector)\n",
    "    if not ExtensionSelector:\n",
    "        play_gesture = int(input(\"Choose - by number - one of the gestures: (1) rock, (2) paper, (3) scissors\"))\n",
    "        if play_gesture > 3:\n",
    "            raise ValueError(\"Enter a number from 1 to 3!\")\n",
    "        return gestures[play_gesture-1]\n",
    "    else:\n",
    "        play_gesture = int(input(\"Choose - by number - one of the gestures: (1) rock, (2) paper, (3) scissors, (4) lizard, (5) spock\"))\n",
    "        if play_gesture > 5:\n",
    "            raise ValueError(\"Enter a number from 1 to 5!\")\n",
    "        return gestures[play_gesture-1]"
   ]
  },
  {
   "cell_type": "code",
   "execution_count": 10,
   "metadata": {},
   "outputs": [
    {
     "name": "stdout",
     "output_type": "stream",
     "text": [
      "Choose - by number - one of the gestures: (1) rock, (2) paper, (3) scissors1\n"
     ]
    },
    {
     "data": {
      "text/plain": [
       "'rock'"
      ]
     },
     "execution_count": 10,
     "metadata": {},
     "output_type": "execute_result"
    }
   ],
   "source": [
    "Player = PlayerGesture()\n",
    "Player"
   ]
  },
  {
   "cell_type": "markdown",
   "metadata": {},
   "source": [
    "#### 8. Define a function that checks who won a round. \n",
    "The function should return 0 if there is a tie, 1 if the computer wins and 2 if the player wins."
   ]
  },
  {
   "cell_type": "code",
   "execution_count": 11,
   "metadata": {},
   "outputs": [],
   "source": [
    "def ReturnLooseDict(ExtensionSelector=False):\n",
    "    if not ExtensionSelector:\n",
    "        return {\"rock\": {\"scissors\"}, \"paper\": {\"rock\"}, \"scissors\": {\"paper\"}}\n",
    "    else:\n",
    "        return {'rock': {'lizard', 'scissors'}, 'paper': {'rock', 'spock'},  'scissors': {'lizard', 'paper'},\n",
    "                'lizard': {'paper', 'spock'}, 'spock': {'rock', 'scissors'}}\n",
    "\n",
    "def ComputeWinner(Comp, Player, ExtensionSelector=False):\n",
    "    loses_to = ReturnLooseDict(ExtensionSelector)\n",
    "    if Comp in loses_to[Player]:\n",
    "        return 2\n",
    "    elif Player in loses_to[Comp]:\n",
    "        return 1\n",
    "    else:\n",
    "        return 0"
   ]
  },
  {
   "cell_type": "code",
   "execution_count": 12,
   "metadata": {},
   "outputs": [
    {
     "data": {
      "text/plain": [
       "2"
      ]
     },
     "execution_count": 12,
     "metadata": {},
     "output_type": "execute_result"
    }
   ],
   "source": [
    "Winner = ComputeWinner(Comp, Player, False)\n",
    "Winner"
   ]
  },
  {
   "cell_type": "markdown",
   "metadata": {},
   "source": [
    "#### 9. Define a function that prints the choice of the computer, the choice of the player and a message that announces who won the current round. \n",
    "You should also use this function to update the variables that count the number of rounds that the computer and the player have won. The score of the winner increases by one point. If there is a tie, the score does not increase."
   ]
  },
  {
   "cell_type": "code",
   "execution_count": 13,
   "metadata": {},
   "outputs": [],
   "source": [
    "def Outcomes(Comp, Player, Winner):\n",
    "    print(\"Computer chose: \", Comp)\n",
    "    print(\"Player chose: \", Player)\n",
    "    if Winner == 1:\n",
    "        print(\"Computer won this round\")\n",
    "        global cpu_score\n",
    "        cpu_score += 1\n",
    "    elif Winner == 2:\n",
    "        print(\"Player won this round\")\n",
    "        global player_score\n",
    "        player_score += 1\n",
    "    else:\n",
    "        print(\"It's a tie!\")\n",
    "        \n",
    "    print(\"Computer has\", str(cpu_score), \"wins!\")\n",
    "    print(\"Player has\", str(player_score), \"wins!\")\n",
    "    print(\"---\")"
   ]
  },
  {
   "cell_type": "code",
   "execution_count": 14,
   "metadata": {},
   "outputs": [
    {
     "name": "stdout",
     "output_type": "stream",
     "text": [
      "Computer chose:  paper\n",
      "Player chose:  scissors\n",
      "Player won this round\n",
      "Computer has 0 wins!\n",
      "Player has 1 wins!\n",
      "---\n"
     ]
    }
   ],
   "source": [
    "Outcomes(Comp, Player, Winner)"
   ]
  },
  {
   "cell_type": "markdown",
   "metadata": {},
   "source": [
    "#### 10. Now it's time to code the execution of the game using the functions and variables you defined above. \n",
    "\n",
    "First, create a loop structure that repeats while no player reaches the minimum score necessary to win and the number of rounds is less than the maximum number of rounds to play in a game.  \n",
    "\n",
    "Inside the loop, use the functions and variables above to create the execution of a round: ask for the player's choice, generate the random choice of the computer, show the round results, update the scores, etc. "
   ]
  },
  {
   "cell_type": "code",
   "execution_count": 15,
   "metadata": {},
   "outputs": [
    {
     "name": "stdout",
     "output_type": "stream",
     "text": [
      "Choose - by number - one of the gestures: (1) rock, (2) paper, (3) scissors1\n",
      "Computer chose:  rock\n",
      "Player chose:  rock\n",
      "It's a tie!\n",
      "Computer has 0 wins!\n",
      "Player has 0 wins!\n",
      "---\n",
      "1 out of 5 rounds played. \n",
      "\n",
      "Choose - by number - one of the gestures: (1) rock, (2) paper, (3) scissors2\n",
      "Computer chose:  paper\n",
      "Player chose:  paper\n",
      "It's a tie!\n",
      "Computer has 0 wins!\n",
      "Player has 0 wins!\n",
      "---\n",
      "2 out of 5 rounds played. \n",
      "\n",
      "Choose - by number - one of the gestures: (1) rock, (2) paper, (3) scissors3\n",
      "Computer chose:  paper\n",
      "Player chose:  scissors\n",
      "Player won this round\n",
      "Computer has 0 wins!\n",
      "Player has 1 wins!\n",
      "---\n",
      "3 out of 5 rounds played. \n",
      "\n",
      "Choose - by number - one of the gestures: (1) rock, (2) paper, (3) scissors2\n",
      "Computer chose:  paper\n",
      "Player chose:  paper\n",
      "It's a tie!\n",
      "Computer has 0 wins!\n",
      "Player has 1 wins!\n",
      "---\n",
      "4 out of 5 rounds played. \n",
      "\n",
      "Choose - by number - one of the gestures: (1) rock, (2) paper, (3) scissors2\n",
      "Computer chose:  scissors\n",
      "Player chose:  paper\n",
      "Computer won this round\n",
      "Computer has 1 wins!\n",
      "Player has 1 wins!\n",
      "---\n",
      "5 out of 5 rounds played. \n",
      "\n",
      "Dayum, it's a DRAW\n"
     ]
    }
   ],
   "source": [
    "cpu_score = 0\n",
    "player_score = 0\n",
    "\n",
    "round_ = 0\n",
    "while (player_score < rounds_to_win and cpu_score < rounds_to_win) and round_ < n_rounds:\n",
    "    Comp = ComputerGesture()\n",
    "    Player = PlayerGesture()\n",
    "    Winner = ComputeWinner(Comp, Player)\n",
    "    Outcomes(Comp, Player, Winner)\n",
    "    round_ += 1\n",
    "    print(str(round_) + \" out of \" + str(n_rounds) + \" rounds played.\", \"\\n\")\n",
    "    \n",
    "if cpu_score > player_score:\n",
    "    print(\">>> COMPUTER WON!\")\n",
    "elif cpu_score < player_score:\n",
    "    print(\">>> PLAYER WON!\")\n",
    "else:\n",
    "    print(\"Dayum, it's a DRAW\")"
   ]
  },
  {
   "cell_type": "markdown",
   "metadata": {},
   "source": [
    "#### 11. Print the winner of the game based on who won more rounds.\n",
    "Remember that the game might be tied. "
   ]
  },
  {
   "cell_type": "code",
   "execution_count": 16,
   "metadata": {},
   "outputs": [
    {
     "name": "stdout",
     "output_type": "stream",
     "text": [
      "Player wins!\n"
     ]
    }
   ],
   "source": [
    "if cpu_score > player_score:\n",
    "    print(\"Computer wins!\")\n",
    "else:\n",
    "    print(\"Player wins!\")"
   ]
  },
  {
   "cell_type": "markdown",
   "metadata": {},
   "source": [
    "# Bonus: Rock, Paper, Scissors, Lizard & Spock\n",
    "![](images/rpsls.jpg)\n",
    "\n",
    "In this challenge, you need to improve the previous game by adding two new options. To know more about the rules of the improved version of rock, paper, scissors, check this [link](http://www.samkass.com/theories/RPSSL.html). \n",
    "\n",
    "In addition, you will also need to improve how the game interacts with the player: the number of rounds to play, which must be an odd number, will be requested to the user until a valid number is entered. Define a new function to make that request.\n",
    "\n",
    "**Hint**: Try to reuse the code that you already coded in the previous challenge. If your code is efficient, this bonus will only consist of simple modifications to the original game."
   ]
  },
  {
   "cell_type": "code",
   "execution_count": 17,
   "metadata": {},
   "outputs": [],
   "source": [
    "def DefNumberOfRounds():\n",
    "    n_rounds = int(input(\"How many rounds do you want to play? \"))\n",
    "    if n_rounds % 2 == 0:\n",
    "        print(\"Enter an ODD number!\")\n",
    "        DefNumberOfRounds()\n",
    "    return n_rounds"
   ]
  },
  {
   "cell_type": "code",
   "execution_count": 18,
   "metadata": {},
   "outputs": [
    {
     "name": "stdout",
     "output_type": "stream",
     "text": [
      "How many rounds do you want to play? 7\n",
      "Choose - by number - one of the gestures: (1) rock, (2) paper, (3) scissors, (4) lizard, (5) spock5\n",
      "Computer chose:  spock\n",
      "Player chose:  spock\n",
      "It's a tie!\n",
      "Computer has 0 wins!\n",
      "Player has 0 wins!\n",
      "---\n",
      "1 out of 7 rounds played. \n",
      "\n",
      "Choose - by number - one of the gestures: (1) rock, (2) paper, (3) scissors, (4) lizard, (5) spock4\n",
      "Computer chose:  paper\n",
      "Player chose:  lizard\n",
      "Player won this round\n",
      "Computer has 0 wins!\n",
      "Player has 1 wins!\n",
      "---\n",
      "2 out of 7 rounds played. \n",
      "\n",
      "Choose - by number - one of the gestures: (1) rock, (2) paper, (3) scissors, (4) lizard, (5) spock3\n",
      "Computer chose:  scissors\n",
      "Player chose:  scissors\n",
      "It's a tie!\n",
      "Computer has 0 wins!\n",
      "Player has 1 wins!\n",
      "---\n",
      "3 out of 7 rounds played. \n",
      "\n",
      "Choose - by number - one of the gestures: (1) rock, (2) paper, (3) scissors, (4) lizard, (5) spock2\n",
      "Computer chose:  lizard\n",
      "Player chose:  paper\n",
      "Computer won this round\n",
      "Computer has 1 wins!\n",
      "Player has 1 wins!\n",
      "---\n",
      "4 out of 7 rounds played. \n",
      "\n",
      "Choose - by number - one of the gestures: (1) rock, (2) paper, (3) scissors, (4) lizard, (5) spock1\n",
      "Computer chose:  spock\n",
      "Player chose:  rock\n",
      "Computer won this round\n",
      "Computer has 2 wins!\n",
      "Player has 1 wins!\n",
      "---\n",
      "5 out of 7 rounds played. \n",
      "\n",
      "Choose - by number - one of the gestures: (1) rock, (2) paper, (3) scissors, (4) lizard, (5) spock5\n",
      "Computer chose:  spock\n",
      "Player chose:  spock\n",
      "It's a tie!\n",
      "Computer has 2 wins!\n",
      "Player has 1 wins!\n",
      "---\n",
      "6 out of 7 rounds played. \n",
      "\n",
      "Choose - by number - one of the gestures: (1) rock, (2) paper, (3) scissors, (4) lizard, (5) spock3\n",
      "Computer chose:  paper\n",
      "Player chose:  scissors\n",
      "Player won this round\n",
      "Computer has 2 wins!\n",
      "Player has 2 wins!\n",
      "---\n",
      "7 out of 7 rounds played. \n",
      "\n",
      "Dayum, it's a DRAW\n"
     ]
    }
   ],
   "source": [
    "cpu_score = 0\n",
    "player_score = 0\n",
    "round_ = 0\n",
    "\n",
    "n_rounds = DefNumberOfRounds()\n",
    "\n",
    "while (player_score < rounds_to_win and cpu_score < rounds_to_win) and round_ < n_rounds:\n",
    "    Comp = ComputerGesture(True)\n",
    "    Player = PlayerGesture(True)\n",
    "    Winner = ComputeWinner(Comp, Player, True)\n",
    "    Outcomes(Comp, Player, Winner)\n",
    "    round_ += 1\n",
    "    print(str(round_) + \" out of \" + str(n_rounds) + \" rounds played.\", \"\\n\")\n",
    "\n",
    "if cpu_score > player_score:\n",
    "    print(\">>> COMPUTER WON!\")\n",
    "elif cpu_score < player_score:\n",
    "    print(\">>> PLAYER WON!\")\n",
    "else:\n",
    "    print(\"Dayum, it's a DRAW\")"
   ]
  },
  {
   "cell_type": "code",
   "execution_count": null,
   "metadata": {},
   "outputs": [],
   "source": []
  }
 ],
 "metadata": {
  "kernelspec": {
   "display_name": "Python 3 (ipykernel)",
   "language": "python",
   "name": "python3"
  },
  "language_info": {
   "codemirror_mode": {
    "name": "ipython",
    "version": 3
   },
   "file_extension": ".py",
   "mimetype": "text/x-python",
   "name": "python",
   "nbconvert_exporter": "python",
   "pygments_lexer": "ipython3",
   "version": "3.9.12"
  },
  "toc": {
   "base_numbering": 1,
   "nav_menu": {},
   "number_sections": true,
   "sideBar": true,
   "skip_h1_title": false,
   "title_cell": "Table of Contents",
   "title_sidebar": "Contents",
   "toc_cell": false,
   "toc_position": {},
   "toc_section_display": true,
   "toc_window_display": true
  }
 },
 "nbformat": 4,
 "nbformat_minor": 2
}
