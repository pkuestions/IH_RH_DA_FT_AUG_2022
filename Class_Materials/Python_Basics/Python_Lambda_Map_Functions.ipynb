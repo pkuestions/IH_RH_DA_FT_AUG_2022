{
 "cells": [
  {
   "cell_type": "markdown",
   "id": "30485a80",
   "metadata": {},
   "source": [
    "## Lambda function"
   ]
  },
  {
   "cell_type": "code",
   "execution_count": 244,
   "id": "1759ebe9",
   "metadata": {},
   "outputs": [],
   "source": [
    "### Traditional approach\n",
    "def sumX(x):\n",
    "    return x+3"
   ]
  },
  {
   "cell_type": "code",
   "execution_count": 245,
   "id": "b48bd72a",
   "metadata": {
    "scrolled": false
   },
   "outputs": [
    {
     "data": {
      "text/plain": [
       "5"
      ]
     },
     "execution_count": 245,
     "metadata": {},
     "output_type": "execute_result"
    }
   ],
   "source": [
    "sumX(2)"
   ]
  },
  {
   "cell_type": "code",
   "execution_count": 221,
   "id": "0fe0518a",
   "metadata": {},
   "outputs": [],
   "source": [
    "sumX= lambda  x: x+3"
   ]
  },
  {
   "cell_type": "markdown",
   "id": "690e7cdc",
   "metadata": {},
   "source": [
    "- 'x' = input\n",
    "- 'x+3' = logic\n",
    "- lambda = single use function"
   ]
  },
  {
   "cell_type": "code",
   "execution_count": 222,
   "id": "10c4f16a",
   "metadata": {},
   "outputs": [
    {
     "data": {
      "text/plain": [
       "5"
      ]
     },
     "execution_count": 222,
     "metadata": {},
     "output_type": "execute_result"
    }
   ],
   "source": [
    "sumX(2)"
   ]
  },
  {
   "cell_type": "markdown",
   "id": "9ecdf6cb",
   "metadata": {},
   "source": [
    "## Map function with Lambda"
   ]
  },
  {
   "cell_type": "code",
   "execution_count": 1,
   "id": "68a0653c",
   "metadata": {},
   "outputs": [],
   "source": [
    "student_genders = [\"f\", \"female\", \"M\", \"F\", \"female\"]"
   ]
  },
  {
   "cell_type": "code",
   "execution_count": 4,
   "id": "8a91dd6b",
   "metadata": {},
   "outputs": [
    {
     "data": {
      "text/plain": [
       "<map at 0x26bdd3a0940>"
      ]
     },
     "execution_count": 4,
     "metadata": {},
     "output_type": "execute_result"
    }
   ],
   "source": [
    "map(lambda x:\"F\" if x==\"f\" or x==\"female\" else \"M\",student_genders)"
   ]
  },
  {
   "cell_type": "code",
   "execution_count": 6,
   "id": "31d2bf32",
   "metadata": {},
   "outputs": [
    {
     "data": {
      "text/plain": [
       "['F', 'F', 'M', 'F', 'F']"
      ]
     },
     "execution_count": 6,
     "metadata": {},
     "output_type": "execute_result"
    }
   ],
   "source": [
    "list(map(lambda x:\"F\" if x in [\"f\", \"female\", \"F\"] else \"M\",student_genders))"
   ]
  },
  {
   "cell_type": "code",
   "execution_count": 5,
   "id": "b439a1d2",
   "metadata": {},
   "outputs": [
    {
     "data": {
      "text/plain": [
       "['F', 'F', 'M', 'M', 'F']"
      ]
     },
     "execution_count": 5,
     "metadata": {},
     "output_type": "execute_result"
    }
   ],
   "source": [
    "list(map(lambda x:\"F\" if x==\"f\" or x==\"female\" else \"M\",student_genders))"
   ]
  },
  {
   "cell_type": "markdown",
   "id": "9461c7d2",
   "metadata": {},
   "source": [
    "- *map* uses/applies function on every entry of the supplied body (here: hc[\"gender\"])"
   ]
  },
  {
   "cell_type": "code",
   "execution_count": 228,
   "id": "72e3763e",
   "metadata": {},
   "outputs": [
    {
     "data": {
      "text/plain": [
       "[50.0, 60.0, 70.0, 80.0, 70.0, 70.0, 70.0, 89.0]"
      ]
     },
     "execution_count": 228,
     "metadata": {},
     "output_type": "execute_result"
    }
   ],
   "source": [
    "list(map(lambda x:x+10,students_df[\"py-score\"]))"
   ]
  }
 ],
 "metadata": {
  "kernelspec": {
   "display_name": "Python 3 (ipykernel)",
   "language": "python",
   "name": "python3"
  },
  "language_info": {
   "codemirror_mode": {
    "name": "ipython",
    "version": 3
   },
   "file_extension": ".py",
   "mimetype": "text/x-python",
   "name": "python",
   "nbconvert_exporter": "python",
   "pygments_lexer": "ipython3",
   "version": "3.9.12"
  },
  "toc": {
   "base_numbering": 1,
   "nav_menu": {},
   "number_sections": true,
   "sideBar": true,
   "skip_h1_title": false,
   "title_cell": "Table of Contents",
   "title_sidebar": "Contents",
   "toc_cell": false,
   "toc_position": {
    "height": "calc(100% - 180px)",
    "left": "10px",
    "top": "150px",
    "width": "229.433px"
   },
   "toc_section_display": true,
   "toc_window_display": true
  }
 },
 "nbformat": 4,
 "nbformat_minor": 5
}
