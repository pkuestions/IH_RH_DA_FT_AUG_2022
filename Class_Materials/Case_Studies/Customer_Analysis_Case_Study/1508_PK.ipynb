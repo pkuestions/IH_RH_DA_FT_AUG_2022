{
 "cells": [
  {
   "cell_type": "markdown",
   "id": "0aee85dc",
   "metadata": {},
   "source": [
    "- Aggregate data into one Data Frame using Pandas. Pay attention that files may have different names for the same column. therefore, make sure that you unify the columns names before concating them.\n",
    "- Standardizing header names\n",
    "- Deleting and rearranging columns – delete the column customer as it is only a unique identifier for each row of data\n",
    "- Working with data types – Check the data types of all the columns and fix the incorrect ones (for ex. customer lifetime value and number of open complaints ). Hint: remove the percentage from the customer lifetime value and truncate it to an integer value.\n",
    "- clean the number of open complaints and extract the middle number which is changing between records. pay attention that the number of open complaints is a categorical feature.\n",
    "- Filtering data and Correcting typos – Filter the data in state and gender column to standardize the texts in those columns\n",
    "- Removing duplicates\n"
   ]
  },
  {
   "cell_type": "code",
   "execution_count": 1,
   "id": "7f2b2f1a",
   "metadata": {},
   "outputs": [],
   "source": [
    "import numpy as np\n",
    "import pandas as pd\n",
    "import matplotlib.pyplot as plt\n",
    "%matplotlib inline\n",
    "import seaborn as sns\n",
    "import statsmodels.api as sm\n",
    "from scipy.stats import boxcox\n",
    "\n",
    "pd.options.display.max_rows = 100\n",
    "## Install xlrd package to load Excel files\n",
    "#!conda install openpyxl\n",
    "#!conda install xlrd"
   ]
  },
  {
   "cell_type": "code",
   "execution_count": 2,
   "id": "23a7e07e",
   "metadata": {},
   "outputs": [],
   "source": [
    "def clean_columns():\n",
    "    \"\"\"\n",
    "    clean column names;\n",
    "    cast all as lowercase;\n",
    "    replace \"st\" with \"state\";\n",
    "    replace all spaces with \"_\"\n",
    "    \"\"\"\n",
    "    f1 = pd.read_csv('Data/file1.csv')\n",
    "    f2 = pd.read_csv('Data/file2.csv')\n",
    "    f3 = pd.read_csv('Data/file3.csv')\n",
    "    \n",
    "    f1_cols = [i.lower().replace(\" \", \"_\") for i in f1.columns]\n",
    "    f1_cols[f1_cols.index(\"st\")] = \"state\"\n",
    "    \n",
    "    f2_cols = [i.lower().replace(\" \", \"_\") for i in f2.columns]\n",
    "    f2_cols[f2_cols.index(\"st\")] = \"state\"\n",
    "    \n",
    "    f3_cols = [i.lower().replace(\" \", \"_\") for i in f3.columns]\n",
    "    \n",
    "    return f1_cols, f2_cols, f3_cols\n",
    "\n",
    "cols_to_use = clean_columns()[0]"
   ]
  },
  {
   "cell_type": "code",
   "execution_count": 3,
   "id": "0b6ff11b",
   "metadata": {},
   "outputs": [],
   "source": [
    "def load_original_data():\n",
    "    \"\"\"\n",
    "    load original data with already sorted column order;\n",
    "    concatenate data into one df\n",
    "    \"\"\"\n",
    "    file1 = pd.read_csv('Data/file1.csv')\n",
    "    file2 = pd.read_csv('Data/file2.csv')\n",
    "    file3 = pd.read_csv('Data/file3.csv')\n",
    "    \n",
    "    file1_cols, file2_cols, file3_cols = clean_columns()\n",
    "    \n",
    "    file1.columns = file1_cols\n",
    "    file2.columns = file2_cols\n",
    "    file3.columns = file3_cols\n",
    "    \n",
    "    file1 = file1[cols_to_use]\n",
    "    file2 = file2[cols_to_use]\n",
    "    file3 = file3[cols_to_use]\n",
    "    \n",
    "    return pd.concat([file1,file2,file3], axis=0) # axis = 0 means row-wise; 1 means col-wise\n",
    "\n",
    "ca_df = load_original_data()"
   ]
  },
  {
   "cell_type": "code",
   "execution_count": 4,
   "id": "dfc95251",
   "metadata": {},
   "outputs": [],
   "source": [
    "def clean_gender_col():\n",
    "    \"\"\"\n",
    "    clean gender column data;\n",
    "    make everything either M, F, or NaN\n",
    "    \"\"\"\n",
    "    gender_list = []\n",
    "    \n",
    "    for gender in ca_df[\"gender\"]:\n",
    "        if type(gender)==float:\n",
    "            gender_list.append(np.nan)\n",
    "        elif type(gender)!=float:\n",
    "            if gender.lower().startswith(\"f\"):\n",
    "                gender_list.append(\"F\")\n",
    "            else:\n",
    "                gender_list.append(\"M\")\n",
    "\n",
    "    ca_df[\"gender\"] = gender_list\n",
    "    \n",
    "clean_gender_col()"
   ]
  },
  {
   "cell_type": "code",
   "execution_count": 5,
   "id": "5a89b496",
   "metadata": {},
   "outputs": [],
   "source": [
    "def clean_states_col():\n",
    "    \"\"\"\n",
    "    clean state column data;\n",
    "    \n",
    "    \"\"\"\n",
    "\n",
    "    state_list = []\n",
    "\n",
    "    for state in ca_df[\"state\"]:\n",
    "        if type(state)==str:\n",
    "            if state.lower()==\"az\":\n",
    "                state_list.append(\"Arizona\")\n",
    "            elif state.lower()==\"wa\":\n",
    "                state_list.append(\"Washington\")\n",
    "            elif state.lower()==\"cali\":\n",
    "                state_list.append(\"California\")\n",
    "            else:\n",
    "                state_list.append(state)\n",
    "        elif type(float):\n",
    "            state_list.append(state)\n",
    "    \n",
    "    ca_df[\"state\"] = state_list\n",
    "\n",
    "clean_states_col()"
   ]
  },
  {
   "cell_type": "code",
   "execution_count": 6,
   "id": "23810301",
   "metadata": {},
   "outputs": [],
   "source": [
    "def drop_column(col):\n",
    "    \"\"\"\n",
    "    take a column and delete it from the dataframe\n",
    "    \"\"\"\n",
    "    if col not in ca_df.columns:\n",
    "        raise ValueError(f\"Your given column '{col}' is not a column in the dataframe!\")\n",
    "        drop_column()\n",
    "    \n",
    "    ca_df.drop(col, axis=1, inplace=True)\n",
    "    \n",
    "    return ca_df"
   ]
  },
  {
   "cell_type": "code",
   "execution_count": 7,
   "id": "9e251db5",
   "metadata": {},
   "outputs": [],
   "source": [
    "ca_df.dropna(how=\"all\", inplace=True)\n",
    "drop_column(\"customer\")\n",
    "ca_df[\"customer_lifetime_value\"] = [int(entry[:entry.rfind(\".\")]) if type(entry)!=float\n",
    "                                    else int(entry) if entry >= 0\n",
    "                                    else np.nan for entry in ca_df[\"customer_lifetime_value\"]]\n",
    "ca_df[\"number_of_open_complaints\"] = [int(entry[2:3]) if type(entry)==str else int(entry) for entry in ca_df[\"number_of_open_complaints\"]]\n",
    "ca_df.drop_duplicates(inplace=True)\n",
    "ca_df.reset_index(drop=True, inplace=True)"
   ]
  },
  {
   "cell_type": "markdown",
   "id": "55951194",
   "metadata": {},
   "source": [
    "hk_df['median_home_val'] =  pd.to_numeric(hk_df['median_home_val'], errors='coerce')"
   ]
  },
  {
   "cell_type": "code",
   "execution_count": 14,
   "id": "159f02d4",
   "metadata": {},
   "outputs": [
    {
     "data": {
      "text/plain": [
       "state                          0\n",
       "gender                       122\n",
       "education                      0\n",
       "customer_lifetime_value        7\n",
       "income                         0\n",
       "monthly_premium_auto           0\n",
       "number_of_open_complaints      0\n",
       "policy_type                    0\n",
       "vehicle_class                  0\n",
       "total_claim_amount             0\n",
       "dtype: int64"
      ]
     },
     "execution_count": 14,
     "metadata": {},
     "output_type": "execute_result"
    }
   ],
   "source": [
    "ca_df.isna().sum()"
   ]
  },
  {
   "cell_type": "code",
   "execution_count": 26,
   "id": "431a0a52",
   "metadata": {},
   "outputs": [
    {
     "data": {
      "text/html": [
       "<div>\n",
       "<style scoped>\n",
       "    .dataframe tbody tr th:only-of-type {\n",
       "        vertical-align: middle;\n",
       "    }\n",
       "\n",
       "    .dataframe tbody tr th {\n",
       "        vertical-align: top;\n",
       "    }\n",
       "\n",
       "    .dataframe thead th {\n",
       "        text-align: right;\n",
       "    }\n",
       "</style>\n",
       "<table border=\"1\" class=\"dataframe\">\n",
       "  <thead>\n",
       "    <tr style=\"text-align: right;\">\n",
       "      <th></th>\n",
       "      <th>header_name</th>\n",
       "      <th>%_nulls</th>\n",
       "    </tr>\n",
       "  </thead>\n",
       "  <tbody>\n",
       "    <tr>\n",
       "      <th>0</th>\n",
       "      <td>state</td>\n",
       "      <td>0.00</td>\n",
       "    </tr>\n",
       "    <tr>\n",
       "      <th>1</th>\n",
       "      <td>gender</td>\n",
       "      <td>1.37</td>\n",
       "    </tr>\n",
       "    <tr>\n",
       "      <th>2</th>\n",
       "      <td>education</td>\n",
       "      <td>0.00</td>\n",
       "    </tr>\n",
       "    <tr>\n",
       "      <th>3</th>\n",
       "      <td>customer_lifetime_value</td>\n",
       "      <td>0.08</td>\n",
       "    </tr>\n",
       "    <tr>\n",
       "      <th>4</th>\n",
       "      <td>income</td>\n",
       "      <td>0.00</td>\n",
       "    </tr>\n",
       "    <tr>\n",
       "      <th>5</th>\n",
       "      <td>monthly_premium_auto</td>\n",
       "      <td>0.00</td>\n",
       "    </tr>\n",
       "    <tr>\n",
       "      <th>6</th>\n",
       "      <td>number_of_open_complaints</td>\n",
       "      <td>0.00</td>\n",
       "    </tr>\n",
       "    <tr>\n",
       "      <th>7</th>\n",
       "      <td>policy_type</td>\n",
       "      <td>0.00</td>\n",
       "    </tr>\n",
       "    <tr>\n",
       "      <th>8</th>\n",
       "      <td>vehicle_class</td>\n",
       "      <td>0.00</td>\n",
       "    </tr>\n",
       "    <tr>\n",
       "      <th>9</th>\n",
       "      <td>total_claim_amount</td>\n",
       "      <td>0.00</td>\n",
       "    </tr>\n",
       "  </tbody>\n",
       "</table>\n",
       "</div>"
      ],
      "text/plain": [
       "                 header_name  %_nulls\n",
       "0                      state     0.00\n",
       "1                     gender     1.37\n",
       "2                  education     0.00\n",
       "3    customer_lifetime_value     0.08\n",
       "4                     income     0.00\n",
       "5       monthly_premium_auto     0.00\n",
       "6  number_of_open_complaints     0.00\n",
       "7                policy_type     0.00\n",
       "8              vehicle_class     0.00\n",
       "9         total_claim_amount     0.00"
      ]
     },
     "execution_count": 26,
     "metadata": {},
     "output_type": "execute_result"
    }
   ],
   "source": [
    "nulls_df = pd.DataFrame(round(ca_df.isna().sum()/len(ca_df),4)*100)\n",
    "nulls_df = nulls_df.reset_index()\n",
    "nulls_df.columns = ['header_name', '%_nulls']\n",
    "nulls_df"
   ]
  },
  {
   "cell_type": "code",
   "execution_count": 9,
   "id": "b0685b6e",
   "metadata": {},
   "outputs": [
    {
     "name": "stdout",
     "output_type": "stream",
     "text": [
      "<class 'pandas.core.frame.DataFrame'>\n",
      "RangeIndex: 8875 entries, 0 to 8874\n",
      "Data columns (total 10 columns):\n",
      " #   Column                     Non-Null Count  Dtype  \n",
      "---  ------                     --------------  -----  \n",
      " 0   state                      8875 non-null   object \n",
      " 1   gender                     8753 non-null   object \n",
      " 2   education                  8875 non-null   object \n",
      " 3   customer_lifetime_value    8868 non-null   float64\n",
      " 4   income                     8875 non-null   float64\n",
      " 5   monthly_premium_auto       8875 non-null   float64\n",
      " 6   number_of_open_complaints  8875 non-null   int64  \n",
      " 7   policy_type                8875 non-null   object \n",
      " 8   vehicle_class              8875 non-null   object \n",
      " 9   total_claim_amount         8875 non-null   float64\n",
      "dtypes: float64(4), int64(1), object(5)\n",
      "memory usage: 693.5+ KB\n"
     ]
    }
   ],
   "source": [
    "ca_df.info()"
   ]
  },
  {
   "cell_type": "code",
   "execution_count": 10,
   "id": "b612e0e7",
   "metadata": {},
   "outputs": [
    {
     "data": {
      "text/plain": [
       "0       Washington\n",
       "1          Arizona\n",
       "2           Nevada\n",
       "3       California\n",
       "4       Washington\n",
       "           ...    \n",
       "8870    California\n",
       "8871    California\n",
       "8872    California\n",
       "8873    California\n",
       "8874    California\n",
       "Name: state, Length: 8875, dtype: object"
      ]
     },
     "execution_count": 10,
     "metadata": {},
     "output_type": "execute_result"
    }
   ],
   "source": [
    "ca_df[\"state\"]"
   ]
  },
  {
   "cell_type": "code",
   "execution_count": null,
   "id": "8bdbcd18",
   "metadata": {},
   "outputs": [],
   "source": []
  }
 ],
 "metadata": {
  "kernelspec": {
   "display_name": "Python 3 (ipykernel)",
   "language": "python",
   "name": "python3"
  },
  "language_info": {
   "codemirror_mode": {
    "name": "ipython",
    "version": 3
   },
   "file_extension": ".py",
   "mimetype": "text/x-python",
   "name": "python",
   "nbconvert_exporter": "python",
   "pygments_lexer": "ipython3",
   "version": "3.9.12"
  },
  "toc": {
   "base_numbering": 1,
   "nav_menu": {},
   "number_sections": true,
   "sideBar": true,
   "skip_h1_title": false,
   "title_cell": "Table of Contents",
   "title_sidebar": "Contents",
   "toc_cell": false,
   "toc_position": {},
   "toc_section_display": true,
   "toc_window_display": true
  }
 },
 "nbformat": 4,
 "nbformat_minor": 5
}
