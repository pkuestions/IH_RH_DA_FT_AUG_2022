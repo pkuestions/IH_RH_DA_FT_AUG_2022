{
 "cells": [
  {
   "cell_type": "markdown",
   "id": "0aee85dc",
   "metadata": {},
   "source": [
    "- Aggregate data into one Data Frame using Pandas. Pay attention that files may have different names for the same column. therefore, make sure that you unify the columns names before concating them.\n",
    "- Standardizing header names\n",
    "- Deleting and rearranging columns – delete the column customer as it is only a unique identifier for each row of data\n",
    "- Working with data types – Check the data types of all the columns and fix the incorrect ones (for ex. customer lifetime value and number of open complaints ). Hint: remove the percentage from the customer lifetime value and truncate it to an integer value.\n",
    "- clean the number of open complaints and extract the middle number which is changing between records. pay attention that the number of open complaints is a categorical feature.\n",
    "- Filtering data and Correcting typos – Filter the data in state and gender column to standardize the texts in those columns\n",
    "- Removing duplicates\n"
   ]
  },
  {
   "cell_type": "code",
   "execution_count": 1,
   "id": "7f2b2f1a",
   "metadata": {},
   "outputs": [],
   "source": [
    "import numpy as np\n",
    "import pandas as pd\n",
    "import matplotlib.pyplot as plt\n",
    "%matplotlib inline\n",
    "import seaborn as sns\n",
    "import statsmodels.api as sm\n",
    "from scipy.stats import boxcox\n",
    "\n",
    "pd.options.display.max_rows = 100\n",
    "## Install xlrd package to load Excel files\n",
    "#!conda install openpyxl\n",
    "#!conda install xlrd"
   ]
  },
  {
   "cell_type": "code",
   "execution_count": 2,
   "id": "23a7e07e",
   "metadata": {},
   "outputs": [],
   "source": [
    "def clean_columns():\n",
    "    \"\"\"\n",
    "    clean column names;\n",
    "    cast all as lowercase;\n",
    "    replace \"st\" with \"state\";\n",
    "    replace all spaces with \"_\"\n",
    "    \"\"\"\n",
    "    f1 = pd.read_csv('Data/file1.csv')\n",
    "    f2 = pd.read_csv('Data/file2.csv')\n",
    "    f3 = pd.read_csv('Data/file3.csv')\n",
    "    \n",
    "    f1_cols = [i.lower().replace(\" \", \"_\") for i in f1.columns]\n",
    "    f1_cols[f1_cols.index(\"st\")] = \"state\"\n",
    "    \n",
    "    f2_cols = [i.lower().replace(\" \", \"_\") for i in f2.columns]\n",
    "    f2_cols[f2_cols.index(\"st\")] = \"state\"\n",
    "    \n",
    "    f3_cols = [i.lower().replace(\" \", \"_\") for i in f3.columns]\n",
    "    \n",
    "    return f1_cols, f2_cols, f3_cols\n",
    "\n",
    "cols_to_use = clean_columns()[0]"
   ]
  },
  {
   "cell_type": "code",
   "execution_count": 3,
   "id": "0b6ff11b",
   "metadata": {},
   "outputs": [],
   "source": [
    "def load_original_data():\n",
    "    \"\"\"\n",
    "    load original data with already sorted column order;\n",
    "    concatenate data into one df\n",
    "    \"\"\"\n",
    "    file1 = pd.read_csv('Data/file1.csv')\n",
    "    file2 = pd.read_csv('Data/file2.csv')\n",
    "    file3 = pd.read_csv('Data/file3.csv')\n",
    "    \n",
    "    file1_cols, file2_cols, file3_cols = clean_columns()\n",
    "    \n",
    "    file1.columns = file1_cols\n",
    "    file2.columns = file2_cols\n",
    "    file3.columns = file3_cols\n",
    "    \n",
    "    file1 = file1[cols_to_use]\n",
    "    file2 = file2[cols_to_use]\n",
    "    file3 = file3[cols_to_use]\n",
    "    \n",
    "    return pd.concat([file1,file2,file3], axis=0) # axis = 0 means row-wise; 1 means col-wise\n",
    "\n",
    "ca_df = load_original_data()"
   ]
  },
  {
   "cell_type": "code",
   "execution_count": 4,
   "id": "dfc95251",
   "metadata": {},
   "outputs": [],
   "source": [
    "def clean_gender_col():\n",
    "    \"\"\"\n",
    "    clean gender column data;\n",
    "    make everything either M, F, or NaN\n",
    "    \"\"\"\n",
    "    gender_list = []\n",
    "    \n",
    "    for gender in ca_df[\"gender\"]:\n",
    "        if type(gender)==float:\n",
    "            gender_list.append(np.nan)\n",
    "        elif type(gender)!=float:\n",
    "            if gender.lower().startswith(\"f\"):\n",
    "                gender_list.append(\"F\")\n",
    "            else:\n",
    "                gender_list.append(\"M\")\n",
    "\n",
    "    ca_df[\"gender\"] = gender_list\n",
    "    \n",
    "clean_gender_col()"
   ]
  },
  {
   "cell_type": "code",
   "execution_count": 5,
   "id": "5a89b496",
   "metadata": {},
   "outputs": [],
   "source": [
    "def clean_states_col():\n",
    "    \"\"\"\n",
    "    clean state column data;\n",
    "    \n",
    "    \"\"\"\n",
    "\n",
    "    state_list = []\n",
    "\n",
    "    for state in ca_df[\"state\"]:\n",
    "        if type(state)==str:\n",
    "            if state.lower()==\"az\":\n",
    "                state_list.append(\"Arizona\")\n",
    "            elif state.lower()==\"wa\":\n",
    "                state_list.append(\"Washington\")\n",
    "            elif state.lower()==\"cali\":\n",
    "                state_list.append(\"California\")\n",
    "            else:\n",
    "                state_list.append(state)\n",
    "        elif type(float):\n",
    "            state_list.append(state)\n",
    "    \n",
    "    ca_df[\"state\"] = state_list\n",
    "\n",
    "clean_states_col()"
   ]
  },
  {
   "cell_type": "code",
   "execution_count": 6,
   "id": "f7d32aef",
   "metadata": {},
   "outputs": [],
   "source": [
    "def clean_education_col(to_replace, replace_with):\n",
    "    \"\"\"\n",
    "    func descr\n",
    "    \"\"\"\n",
    "    if to_replace in ca_df[\"education\"]:\n",
    "        ca_df[\"education\"] = ca_df[\"education\"].str.replace(to_replace, replace_with)\n",
    "    \n"
   ]
  },
  {
   "cell_type": "code",
   "execution_count": 7,
   "id": "23810301",
   "metadata": {},
   "outputs": [],
   "source": [
    "def drop_column(col):\n",
    "    \"\"\"\n",
    "    take a column and delete it from the dataframe\n",
    "    \"\"\"\n",
    "    if col not in ca_df.columns:\n",
    "        raise ValueError(f\"Your given column '{col}' is not a column in the dataframe!\")\n",
    "        drop_column()\n",
    "    \n",
    "    ca_df.drop(col, axis=1, inplace=True)\n"
   ]
  },
  {
   "cell_type": "code",
   "execution_count": 11,
   "id": "6e292fa9",
   "metadata": {},
   "outputs": [
    {
     "data": {
      "text/plain": [
       "array(['1/0/00', '1/2/00', '1/1/00', '1/3/00', '1/5/00', '1/4/00', nan, 0,\n",
       "       2, 3, 1, 5, 4], dtype=object)"
      ]
     },
     "execution_count": 11,
     "metadata": {},
     "output_type": "execute_result"
    }
   ],
   "source": [
    "ca_df[\"number_of_open_complaints\"].unique()"
   ]
  },
  {
   "cell_type": "code",
   "execution_count": 13,
   "id": "9e251db5",
   "metadata": {},
   "outputs": [
    {
     "ename": "SyntaxError",
     "evalue": "invalid syntax (2373534984.py, line 12)",
     "output_type": "error",
     "traceback": [
      "\u001b[1;36m  Input \u001b[1;32mIn [13]\u001b[1;36m\u001b[0m\n\u001b[1;33m    else entry\u001b[0m\n\u001b[1;37m    ^\u001b[0m\n\u001b[1;31mSyntaxError\u001b[0m\u001b[1;31m:\u001b[0m invalid syntax\n"
     ]
    }
   ],
   "source": [
    "drop_column(\"customer\")\n",
    "ca_df[\"education\"] = [\"Bachelor\" if x==\"Bachelors\" else x for x in ca_df[\"education\"]]\n",
    "ca_df[\"customer_lifetime_value\"] = [int(entry[:entry.rfind(\".\")-2]) if type(entry)!=float\n",
    "                                    else int(entry) if entry >= 0\n",
    "                                    else np.nan \n",
    "                                    for entry in ca_df[\"customer_lifetime_value\"]]\n",
    "# operation can also be performed by stripping \"%\" from string values, \n",
    "# then deviding by 100 via lambda function if type(entry)==str\n",
    "\n",
    "ca_df[\"number_of_open_complaints\"] = [int(entry[2:3]) if type(entry)==str \n",
    "                                      else int(entry) if \n",
    "                                      else entry \n",
    "                                      for entry in ca_df[\"number_of_open_complaints\"]]\n",
    "# operation can also be performed by splitting at \"/\"\n",
    "#ca_df[\"number_of_open_complaints\"] =  [int(entry.split(\"/\")[1]) if type(entry)==str else int(entry) for entry in ca_df[\"number_of_open_complaints\"]]\n",
    "\n",
    "ca_df.drop_duplicates(inplace=True)\n",
    "ca_df.dropna(how=\"all\", inplace=True)\n",
    "ca_df.reset_index(drop=True, inplace=True)"
   ]
  },
  {
   "cell_type": "code",
   "execution_count": null,
   "id": "d1c6688d",
   "metadata": {},
   "outputs": [],
   "source": [
    "ca_df"
   ]
  },
  {
   "cell_type": "markdown",
   "id": "55951194",
   "metadata": {},
   "source": [
    "hk_df['median_home_val'] =  pd.to_numeric(hk_df['median_home_val'], errors='coerce')"
   ]
  },
  {
   "cell_type": "code",
   "execution_count": null,
   "id": "159f02d4",
   "metadata": {},
   "outputs": [],
   "source": [
    "ca_df.isna().sum()"
   ]
  },
  {
   "cell_type": "code",
   "execution_count": null,
   "id": "431a0a52",
   "metadata": {},
   "outputs": [],
   "source": [
    "nulls_df = pd.DataFrame(round(ca_df.isna().sum()/len(ca_df),4)*100)\n",
    "nulls_df = nulls_df.reset_index()\n",
    "nulls_df.columns = ['header_name', '%_nulls']\n",
    "nulls_df"
   ]
  },
  {
   "cell_type": "code",
   "execution_count": null,
   "id": "b0685b6e",
   "metadata": {},
   "outputs": [],
   "source": [
    "ca_df.info()"
   ]
  },
  {
   "cell_type": "code",
   "execution_count": null,
   "id": "8bdbcd18",
   "metadata": {},
   "outputs": [],
   "source": [
    "ca_df"
   ]
  }
 ],
 "metadata": {
  "kernelspec": {
   "display_name": "Python 3 (ipykernel)",
   "language": "python",
   "name": "python3"
  },
  "language_info": {
   "codemirror_mode": {
    "name": "ipython",
    "version": 3
   },
   "file_extension": ".py",
   "mimetype": "text/x-python",
   "name": "python",
   "nbconvert_exporter": "python",
   "pygments_lexer": "ipython3",
   "version": "3.9.12"
  },
  "toc": {
   "base_numbering": 1,
   "nav_menu": {},
   "number_sections": true,
   "sideBar": true,
   "skip_h1_title": false,
   "title_cell": "Table of Contents",
   "title_sidebar": "Contents",
   "toc_cell": false,
   "toc_position": {
    "height": "calc(100% - 180px)",
    "left": "10px",
    "top": "150px",
    "width": "165px"
   },
   "toc_section_display": true,
   "toc_window_display": true
  }
 },
 "nbformat": 4,
 "nbformat_minor": 5
}
