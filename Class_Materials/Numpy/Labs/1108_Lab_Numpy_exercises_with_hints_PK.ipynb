{
 "cells": [
  {
   "cell_type": "markdown",
   "id": "1573f5f9",
   "metadata": {},
   "source": [
    "# numpy exercises\n",
    "\n",
    "This is a collection of exercises that have been collected in the numpy mailing list, on stack overflow\n",
    "and in the numpy documentation. The goal of this collection is to offer a quick reference for both old\n",
    "and new users but also to provide a set of exercises for those who teach.\n",
    "\n",
    "\n",
    "If you find an error or think you've a better way to solve some of them, feel\n",
    "free to open an issue at <https://github.com/rougier/numpy-100>.\n",
    "File automatically generated. See the documentation to update questions/answers/hints programmatically.\n",
    "\n",
    "#### 1. Import the numpy package under the name `np` (★☆☆)\n",
    "`hint: import … as`"
   ]
  },
  {
   "cell_type": "code",
   "execution_count": 1,
   "id": "a1a98078",
   "metadata": {},
   "outputs": [],
   "source": [
    "import numpy as np"
   ]
  },
  {
   "cell_type": "markdown",
   "id": "7c782b9f",
   "metadata": {},
   "source": [
    "#### 2. Create a null vector of size 10 (★☆☆)\n",
    "`hint: np.zeros`"
   ]
  },
  {
   "cell_type": "code",
   "execution_count": 4,
   "id": "6f93fe37",
   "metadata": {},
   "outputs": [
    {
     "data": {
      "text/plain": [
       "array([0., 0., 0., 0., 0., 0., 0., 0., 0., 0.])"
      ]
     },
     "execution_count": 4,
     "metadata": {},
     "output_type": "execute_result"
    }
   ],
   "source": [
    "zeros = np.zeros(10)\n",
    "zeros"
   ]
  },
  {
   "cell_type": "markdown",
   "id": "62bf3faa",
   "metadata": {},
   "source": [
    "#### 3. Create a null vector of size 10 but the fifth value which is 1 (★☆☆)\n",
    "`hint: array[4]`"
   ]
  },
  {
   "cell_type": "code",
   "execution_count": 6,
   "id": "f613a7f1",
   "metadata": {},
   "outputs": [
    {
     "data": {
      "text/plain": [
       "array([0., 0., 0., 0., 1., 0., 0., 0., 0., 0.])"
      ]
     },
     "execution_count": 6,
     "metadata": {},
     "output_type": "execute_result"
    }
   ],
   "source": [
    "x = np.zeros(10)\n",
    "x[4] = 1\n",
    "x"
   ]
  },
  {
   "cell_type": "markdown",
   "id": "4507f6a9",
   "metadata": {},
   "source": [
    "#### 4. Create a vector with values ranging from 10 to 49 (★☆☆)\n",
    "`hint: arange`"
   ]
  },
  {
   "cell_type": "code",
   "execution_count": 7,
   "id": "846cbca2",
   "metadata": {},
   "outputs": [
    {
     "data": {
      "text/plain": [
       "array([10, 11, 12, 13, 14, 15, 16, 17, 18, 19, 20, 21, 22, 23, 24, 25, 26,\n",
       "       27, 28, 29, 30, 31, 32, 33, 34, 35, 36, 37, 38, 39, 40, 41, 42, 43,\n",
       "       44, 45, 46, 47, 48, 49])"
      ]
     },
     "execution_count": 7,
     "metadata": {},
     "output_type": "execute_result"
    }
   ],
   "source": [
    "np.arange(10,50)"
   ]
  },
  {
   "cell_type": "markdown",
   "id": "396f131a",
   "metadata": {},
   "source": [
    "#### 5. Create a 3x3 matrix with values ranging from 0 to 8 (★☆☆)\n",
    "`hint: reshape`"
   ]
  },
  {
   "cell_type": "code",
   "execution_count": 8,
   "id": "8b541d34",
   "metadata": {},
   "outputs": [
    {
     "data": {
      "text/plain": [
       "array([[0, 1, 2],\n",
       "       [3, 4, 5],\n",
       "       [6, 7, 8]])"
      ]
     },
     "execution_count": 8,
     "metadata": {},
     "output_type": "execute_result"
    }
   ],
   "source": [
    "np.arange(9).reshape(3,3)"
   ]
  },
  {
   "cell_type": "markdown",
   "id": "5cea8e1d",
   "metadata": {},
   "source": [
    "#### 6. Find indices of non-zero elements from [1,2,0,0,4,0] (★☆☆)\n",
    "`hint: np.nonzero`"
   ]
  },
  {
   "cell_type": "code",
   "execution_count": 11,
   "id": "08e3df08",
   "metadata": {},
   "outputs": [
    {
     "data": {
      "text/plain": [
       "(array([0, 1, 4], dtype=int64),)"
      ]
     },
     "execution_count": 11,
     "metadata": {},
     "output_type": "execute_result"
    }
   ],
   "source": [
    "y =  [1,2,0,0,4,0]\n",
    "np.nonzero(y)"
   ]
  },
  {
   "cell_type": "markdown",
   "id": "0d690154",
   "metadata": {},
   "source": [
    "#### 7. Create a 3x3 identity matrix (★☆☆)\n",
    "`hint: np.eye`"
   ]
  },
  {
   "cell_type": "code",
   "execution_count": 13,
   "id": "d6d94695",
   "metadata": {},
   "outputs": [
    {
     "data": {
      "text/plain": [
       "(array([[1., 0., 0.],\n",
       "        [0., 1., 0.],\n",
       "        [0., 0., 1.]]),\n",
       " array([[1., 0., 0.],\n",
       "        [0., 1., 0.],\n",
       "        [0., 0., 1.]]))"
      ]
     },
     "execution_count": 13,
     "metadata": {},
     "output_type": "execute_result"
    }
   ],
   "source": [
    "np.eye(3), np.identity(3)"
   ]
  },
  {
   "cell_type": "markdown",
   "id": "80f3afbd",
   "metadata": {},
   "source": [
    "#### 8. Create a 3x3x3 array with random values (★☆☆)\n",
    "`hint: np.random.random`"
   ]
  },
  {
   "cell_type": "code",
   "execution_count": 15,
   "id": "4a7e070c",
   "metadata": {},
   "outputs": [
    {
     "data": {
      "text/plain": [
       "array([[[0.19362699, 0.21930739, 0.26805135],\n",
       "        [0.05461487, 0.11993754, 0.43293389],\n",
       "        [0.35937907, 0.18074505, 0.88072935]],\n",
       "\n",
       "       [[0.64099709, 0.83284781, 0.07908281],\n",
       "        [0.15457978, 0.70628329, 0.48774019],\n",
       "        [0.37465291, 0.33459851, 0.24114738]],\n",
       "\n",
       "       [[0.92797727, 0.73415931, 0.07066134],\n",
       "        [0.57541119, 0.46912574, 0.7710382 ],\n",
       "        [0.19890336, 0.96519296, 0.58734159]]])"
      ]
     },
     "execution_count": 15,
     "metadata": {},
     "output_type": "execute_result"
    }
   ],
   "source": [
    "np.random.random((3,3,3))"
   ]
  },
  {
   "cell_type": "markdown",
   "id": "edda4781",
   "metadata": {},
   "source": [
    "#### 9. Create a 10x10 array with random values and find the minimum and maximum values (★☆☆)\n",
    "`hint: min, max`"
   ]
  },
  {
   "cell_type": "code",
   "execution_count": 49,
   "id": "9c547d6f",
   "metadata": {},
   "outputs": [
    {
     "data": {
      "text/plain": [
       "(0.005061583846218687,\n",
       " 0.9856504541106007,\n",
       " 0.005061583846218687,\n",
       " 0.9856504541106007)"
      ]
     },
     "execution_count": 49,
     "metadata": {},
     "output_type": "execute_result"
    }
   ],
   "source": [
    "r = np.random.random((10,10))\n",
    "np.amin(r), np.amax(r),\\\n",
    "r.min(), r.max()"
   ]
  },
  {
   "cell_type": "markdown",
   "id": "c288acaf",
   "metadata": {},
   "source": [
    "#### 10. Create a random vector of size 30 and find the mean value (★☆☆)\n",
    "`hint: mean`"
   ]
  },
  {
   "cell_type": "code",
   "execution_count": 24,
   "id": "a8cb82e7",
   "metadata": {},
   "outputs": [
    {
     "data": {
      "text/plain": [
       "0.5831591434177786"
      ]
     },
     "execution_count": 24,
     "metadata": {},
     "output_type": "execute_result"
    }
   ],
   "source": [
    "np.mean(np.random.random(30))"
   ]
  },
  {
   "cell_type": "markdown",
   "id": "057662a9",
   "metadata": {},
   "source": [
    "#### 11. Create a 5x5 matrix with values 1,2,3,4 just below the diagonal (★☆☆)\n",
    "`hint: np.diag`"
   ]
  },
  {
   "cell_type": "code",
   "execution_count": 33,
   "id": "5c1e77b4",
   "metadata": {},
   "outputs": [
    {
     "data": {
      "text/plain": [
       "array([[0.37454012, 0.95071431, 0.73199394, 0.59865848, 0.15601864],\n",
       "       [0.15599452, 0.05808361, 0.86617615, 0.60111501, 0.70807258],\n",
       "       [0.02058449, 0.96990985, 0.83244264, 0.21233911, 0.18182497],\n",
       "       [0.18340451, 0.30424224, 0.52475643, 0.43194502, 0.29122914],\n",
       "       [0.61185289, 0.13949386, 0.29214465, 0.36636184, 0.45606998]])"
      ]
     },
     "execution_count": 33,
     "metadata": {},
     "output_type": "execute_result"
    }
   ],
   "source": [
    "np.random.seed(42)\n",
    "rr = np.random.random((5,5))\n",
    "rr.diagonal(-1)"
   ]
  },
  {
   "cell_type": "markdown",
   "id": "336d8466",
   "metadata": {},
   "source": [
    "#### 12. Normalize a 5x5 random matrix (★☆☆)\n",
    "`hint: (x -mean)/std`"
   ]
  },
  {
   "cell_type": "code",
   "execution_count": 50,
   "id": "864c568b",
   "metadata": {},
   "outputs": [
    {
     "data": {
      "text/plain": [
       "array([[0.37284965, 0.9797798 , 0.74938422, 0.60893137, 0.14266357],\n",
       "       [0.14263816, 0.03950081, 0.89072903, 0.61151903, 0.72418595],\n",
       "       [0.        , 1.        , 0.85519484, 0.20199041, 0.16984743],\n",
       "       [0.17151129, 0.2987993 , 0.53108445, 0.4333188 , 0.28509156],\n",
       "       [0.62283009, 0.12525671, 0.28605594, 0.36423482, 0.45873155]])"
      ]
     },
     "execution_count": 50,
     "metadata": {},
     "output_type": "execute_result"
    }
   ],
   "source": [
    "_max, _min = rr.max(), rr.min()\n",
    "rn = (rr - _min)/(_max - _min)\n",
    "rn"
   ]
  },
  {
   "cell_type": "markdown",
   "id": "855ef6d3",
   "metadata": {},
   "source": [
    "Don't know which of the two (see cell above or below) is correct, because I'm lack some math skills :}"
   ]
  },
  {
   "cell_type": "code",
   "execution_count": 54,
   "id": "a823a366",
   "metadata": {},
   "outputs": [
    {
     "data": {
      "text/plain": [
       "array([[-0.23709911,  1.82467557,  1.04200929,  0.56488331, -1.01905371],\n",
       "       [-1.01914002, -1.36950322,  1.52216525,  0.57367372,  0.95640937],\n",
       "       [-1.5036896 ,  1.89336468,  1.40145369, -0.81751722, -0.92670866],\n",
       "       [-0.92105645, -0.48865218,  0.30043311, -0.03168212, -0.5352181 ],\n",
       "       [ 0.61209803, -1.07818578, -0.53194206, -0.26636415,  0.05464636]])"
      ]
     },
     "execution_count": 54,
     "metadata": {},
     "output_type": "execute_result"
    }
   ],
   "source": [
    "_mean = np.mean(rr)\n",
    "_std = np.std(rr)\n",
    "\n",
    "(rr - _mean)/_std"
   ]
  },
  {
   "cell_type": "markdown",
   "id": "27ddcd36",
   "metadata": {},
   "source": [
    "#### 13. How to find common values between two arrays? (★☆☆)\n",
    "`hint: np.intersect1d`"
   ]
  },
  {
   "cell_type": "code",
   "execution_count": 57,
   "id": "5c2fd5c7",
   "metadata": {},
   "outputs": [
    {
     "data": {
      "text/plain": [
       "array([1, 2, 3])"
      ]
     },
     "execution_count": 57,
     "metadata": {},
     "output_type": "execute_result"
    }
   ],
   "source": [
    "r1 = np.array([1,2,3,4,5])\n",
    "r2 = np.array([[1,6,3,7,2],[22,7,45,1,2]])\n",
    "\n",
    "np.intersect1d(r1, r2)"
   ]
  },
  {
   "cell_type": "markdown",
   "id": "3e467d2b",
   "metadata": {},
   "source": [
    "#### 14. Create a random vector of size 10 and sort it (★★☆)\n",
    "`hint: sort`"
   ]
  },
  {
   "cell_type": "code",
   "execution_count": 61,
   "id": "86ef2300",
   "metadata": {},
   "outputs": [
    {
     "data": {
      "text/plain": [
       "array([0.16949275, 0.29444889, 0.31692201, 0.38509773, 0.42818415,\n",
       "       0.85113667, 0.85300946, 0.92831856, 0.96361998, 0.96665482])"
      ]
     },
     "execution_count": 61,
     "metadata": {},
     "output_type": "execute_result"
    }
   ],
   "source": [
    "np.sort(np.random.random(10))"
   ]
  },
  {
   "cell_type": "markdown",
   "id": "de0283a5",
   "metadata": {},
   "source": [
    "#### 15. Create random vector of size 10 and replace the maximum value by 0 (★★☆)\n",
    "`hint: argmax`"
   ]
  },
  {
   "cell_type": "code",
   "execution_count": 76,
   "id": "7996afd6",
   "metadata": {},
   "outputs": [
    {
     "name": "stdout",
     "output_type": "stream",
     "text": [
      "[0.29624916 0.80906772 0.35025253 0.78940926 0.56134898 0.25358895\n",
      " 0.10497708 0.05846073 0.67329238 0.69782966]\n",
      "0.8090677156733267\n",
      "[0.29624916 0.         0.35025253 0.78940926 0.56134898 0.25358895\n",
      " 0.10497708 0.05846073 0.67329238 0.69782966]\n"
     ]
    }
   ],
   "source": [
    "np.random.seed(69)\n",
    "rrr = np.random.random(10)\n",
    "print(rrr)\n",
    "print(rrr.max())\n",
    "rrr_ = np.where(rrr == rrr.max(), 0, rrr)\n",
    "print(rrr_)\n",
    "\n",
    "# rrr[np.argmax(rrr)] = 0"
   ]
  },
  {
   "cell_type": "markdown",
   "id": "1015c771",
   "metadata": {},
   "source": [
    "#### 16. Subtract the mean of each row of a matrix (★★☆)\n",
    "`hint: mean(axis=,keepdims=)`"
   ]
  },
  {
   "cell_type": "markdown",
   "id": "919657af",
   "metadata": {},
   "source": [
    "Not quite clear what to substract from where!?"
   ]
  },
  {
   "cell_type": "code",
   "execution_count": 120,
   "id": "0e31aa60",
   "metadata": {},
   "outputs": [
    {
     "name": "stdout",
     "output_type": "stream",
     "text": [
      "[[0.29624916 0.80906772]\n",
      " [0.35025253 0.78940926]\n",
      " [0.56134898 0.25358895]\n",
      " [0.10497708 0.05846073]\n",
      " [0.67329238 0.69782966]] original array\n",
      "---\n",
      "[0.5526584386728801, 0.569830890827152, 0.40746896499535284, 0.08171890644099439, 0.6855610188857771] row means\n",
      "---\n",
      "[[-0.25640928  0.25640928]\n",
      " [-0.21957837  0.21957837]\n",
      " [ 0.15388001 -0.15388001]\n",
      " [ 0.02325818 -0.02325818]\n",
      " [-0.01226864  0.01226864]] array with substracted means\n"
     ]
    }
   ],
   "source": [
    "np.random.seed(69)\n",
    "rrr = np.random.random(10).reshape(5,2)\n",
    "print(rrr,\"original array\")\n",
    "print(\"---\")\n",
    "row_means = rrr.mean(axis=1, keepdims=True)\n",
    "row_means = [row_means[_][0] for _ in range(len(row_means))]\n",
    "print(row_means, \"row means\")\n",
    "print(\"---\")\n",
    "for idx, mean in enumerate(row_means):\n",
    "    rrr[idx,0] = rrr[idx,0] - mean\n",
    "    rrr[idx,1] = rrr[idx,1] - mean\n",
    "    \n",
    "print(rrr, \"array with substracted means\")"
   ]
  },
  {
   "cell_type": "markdown",
   "id": "76145885",
   "metadata": {},
   "source": [
    "#### 17. How to get the n largest values of an array (★★★)\n",
    "`Z = np.arange(10000)\n",
    "np.random.shuffle(Z)\n",
    "n = 5\n",
    "hint: np.argsort | np.argpartition`"
   ]
  },
  {
   "cell_type": "markdown",
   "id": "ad5eb13d",
   "metadata": {},
   "source": [
    "This doesn't make sense because the array has initially been shuffled and I'm just resorting it again but ¯\\_(ツ)_/¯"
   ]
  },
  {
   "cell_type": "code",
   "execution_count": 142,
   "id": "10beb0b8",
   "metadata": {
    "scrolled": true
   },
   "outputs": [
    {
     "data": {
      "text/plain": [
       "array([9995, 9996, 9997, 9998, 9999])"
      ]
     },
     "execution_count": 142,
     "metadata": {},
     "output_type": "execute_result"
    }
   ],
   "source": [
    "Z = np.arange(10000)\n",
    "n = 5\n",
    "np.random.shuffle(Z)\n",
    "z_sort = np.sort(Z)\n",
    "z_sort[-5:]"
   ]
  },
  {
   "cell_type": "markdown",
   "id": "2fd0a1c2",
   "metadata": {},
   "source": [
    "#### 18. Create a random 5*3 matrix and replace items that are larger than 4 by their squares ( Example:  6 --> 36) \n",
    "`hint: np.where`"
   ]
  },
  {
   "cell_type": "code",
   "execution_count": 150,
   "id": "cdad4823",
   "metadata": {},
   "outputs": [
    {
     "name": "stdout",
     "output_type": "stream",
     "text": [
      "[[2 2 6]\n",
      " [1 3 9]\n",
      " [6 1 0]\n",
      " [1 9 0]\n",
      " [0 9 3]] original array\n",
      "---\n",
      "[[ 2  2 36]\n",
      " [ 1  3 81]\n",
      " [36  1  0]\n",
      " [ 1 81  0]\n",
      " [ 0 81  3]] edited array\n"
     ]
    }
   ],
   "source": [
    "np.random.seed(123)\n",
    "m = np.random.randint(0,10,(5,3))\n",
    "print(m, \"original array\")\n",
    "print(\"---\")\n",
    "m = np.where(m > 4, m**2, m) # np.where(if condition [m>4], then [m**2], else [m])\n",
    "print(m, \"edited array\")"
   ]
  }
 ],
 "metadata": {
  "kernelspec": {
   "display_name": "Python 3 (ipykernel)",
   "language": "python",
   "name": "python3"
  },
  "language_info": {
   "codemirror_mode": {
    "name": "ipython",
    "version": 3
   },
   "file_extension": ".py",
   "mimetype": "text/x-python",
   "name": "python",
   "nbconvert_exporter": "python",
   "pygments_lexer": "ipython3",
   "version": "3.9.12"
  },
  "toc": {
   "base_numbering": 1,
   "nav_menu": {},
   "number_sections": true,
   "sideBar": true,
   "skip_h1_title": false,
   "title_cell": "Table of Contents",
   "title_sidebar": "Contents",
   "toc_cell": false,
   "toc_position": {},
   "toc_section_display": true,
   "toc_window_display": true
  }
 },
 "nbformat": 4,
 "nbformat_minor": 5
}
